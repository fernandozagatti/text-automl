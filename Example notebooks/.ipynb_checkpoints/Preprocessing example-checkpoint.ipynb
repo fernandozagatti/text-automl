{
 "cells": [
  {
   "cell_type": "code",
   "execution_count": 1,
   "id": "3b96d385",
   "metadata": {
    "scrolled": true
   },
   "outputs": [
    {
     "name": "stdout",
     "output_type": "stream",
     "text": [
      "=============================== RUNNING THE PREPROCESSING ===============================\n",
      "\n",
      "Defined pipeline: ['transform_to_lowercase', 'remove_special_characters', 'remove_stopwords', 'remove_specific_phrases'] \n",
      "\n",
      "Preprocess --> transform_to_lowercase\n",
      "Converting text to lowercase...\n",
      "Done!\n",
      "\n",
      "Preprocess --> remove_special_characters\n",
      "Removing special characters from text...\n",
      "Done!\n",
      "\n",
      "Preprocess --> remove_stopwords\n",
      "Getting stopword list and removing from text...\n"
     ]
    },
    {
     "name": "stderr",
     "output_type": "stream",
     "text": [
      "[nltk_data] Downloading package stopwords to\n",
      "[nltk_data]     /home/fernando/nltk_data...\n",
      "[nltk_data]   Package stopwords is already up-to-date!\n"
     ]
    },
    {
     "name": "stdout",
     "output_type": "stream",
     "text": [
      "Done!\n",
      "\n",
      "Preprocess --> remove_specific_phrases\n",
      "Removing phrases from text...\n",
      "Done!\n",
      "\n",
      "=============================== END OF THE PREPROCESSING ================================\n",
      "\n"
     ]
    },
    {
     "data": {
      "text/html": [
       "<div>\n",
       "<style scoped>\n",
       "    .dataframe tbody tr th:only-of-type {\n",
       "        vertical-align: middle;\n",
       "    }\n",
       "\n",
       "    .dataframe tbody tr th {\n",
       "        vertical-align: top;\n",
       "    }\n",
       "\n",
       "    .dataframe thead th {\n",
       "        text-align: right;\n",
       "    }\n",
       "</style>\n",
       "<table border=\"1\" class=\"dataframe\">\n",
       "  <thead>\n",
       "    <tr style=\"text-align: right;\">\n",
       "      <th></th>\n",
       "      <th>review_text</th>\n",
       "      <th>prep</th>\n",
       "    </tr>\n",
       "  </thead>\n",
       "  <tbody>\n",
       "    <tr>\n",
       "      <th>0</th>\n",
       "      <td>Estou contente com a compra entrega rápida o ú...</td>\n",
       "      <td>contente compra entrega rapida unico problema ...</td>\n",
       "    </tr>\n",
       "    <tr>\n",
       "      <th>1</th>\n",
       "      <td>Por apenas R$1994.20,eu consegui comprar esse ...</td>\n",
       "      <td>apenas r 1994 20 consegui comprar lindo copo a...</td>\n",
       "    </tr>\n",
       "    <tr>\n",
       "      <th>2</th>\n",
       "      <td>SUPERA EM AGILIDADE E PRATICIDADE OUTRAS PANEL...</td>\n",
       "      <td>supera agilidade praticidade outras panelas el...</td>\n",
       "    </tr>\n",
       "    <tr>\n",
       "      <th>3</th>\n",
       "      <td>MEU FILHO AMOU! PARECE DE VERDADE COM TANTOS D...</td>\n",
       "      <td>filho amou parece verdade tantos detalhes</td>\n",
       "    </tr>\n",
       "    <tr>\n",
       "      <th>4</th>\n",
       "      <td>A entrega foi no prazo, as americanas estão de...</td>\n",
       "      <td>entrega prazo americanas parabens smart tv boa...</td>\n",
       "    </tr>\n",
       "    <tr>\n",
       "      <th>...</th>\n",
       "      <td>...</td>\n",
       "      <td>...</td>\n",
       "    </tr>\n",
       "    <tr>\n",
       "      <th>132368</th>\n",
       "      <td>Vale muito, estou usando no controle do Xbox e...</td>\n",
       "      <td>vale usando controle xbox durou semana carga p...</td>\n",
       "    </tr>\n",
       "    <tr>\n",
       "      <th>132369</th>\n",
       "      <td>Prático e barato, super indico o produto para ...</td>\n",
       "      <td>pratico barato super indico produto corre dia ...</td>\n",
       "    </tr>\n",
       "    <tr>\n",
       "      <th>132370</th>\n",
       "      <td>Chegou antes do prazo previsto e corresponde a...</td>\n",
       "      <td>chegou antes prazo previsto corresponde anuncio</td>\n",
       "    </tr>\n",
       "    <tr>\n",
       "      <th>132371</th>\n",
       "      <td>Material fraco, poderia ser melhor. Ficou deve...</td>\n",
       "      <td>material fraco poderia melhor ficou devendo op...</td>\n",
       "    </tr>\n",
       "    <tr>\n",
       "      <th>132372</th>\n",
       "      <td>Comprei esse produto, quando chegou estava com...</td>\n",
       "      <td>comprei produto chegou avaria devolvi vai faze...</td>\n",
       "    </tr>\n",
       "  </tbody>\n",
       "</table>\n",
       "<p>128992 rows × 2 columns</p>\n",
       "</div>"
      ],
      "text/plain": [
       "                                              review_text  \\\n",
       "0       Estou contente com a compra entrega rápida o ú...   \n",
       "1       Por apenas R$1994.20,eu consegui comprar esse ...   \n",
       "2       SUPERA EM AGILIDADE E PRATICIDADE OUTRAS PANEL...   \n",
       "3       MEU FILHO AMOU! PARECE DE VERDADE COM TANTOS D...   \n",
       "4       A entrega foi no prazo, as americanas estão de...   \n",
       "...                                                   ...   \n",
       "132368  Vale muito, estou usando no controle do Xbox e...   \n",
       "132369  Prático e barato, super indico o produto para ...   \n",
       "132370  Chegou antes do prazo previsto e corresponde a...   \n",
       "132371  Material fraco, poderia ser melhor. Ficou deve...   \n",
       "132372  Comprei esse produto, quando chegou estava com...   \n",
       "\n",
       "                                                     prep  \n",
       "0       contente compra entrega rapida unico problema ...  \n",
       "1       apenas r 1994 20 consegui comprar lindo copo a...  \n",
       "2       supera agilidade praticidade outras panelas el...  \n",
       "3               filho amou parece verdade tantos detalhes  \n",
       "4       entrega prazo americanas parabens smart tv boa...  \n",
       "...                                                   ...  \n",
       "132368  vale usando controle xbox durou semana carga p...  \n",
       "132369  pratico barato super indico produto corre dia ...  \n",
       "132370    chegou antes prazo previsto corresponde anuncio  \n",
       "132371  material fraco poderia melhor ficou devendo op...  \n",
       "132372  comprei produto chegou avaria devolvi vai faze...  \n",
       "\n",
       "[128992 rows x 2 columns]"
      ]
     },
     "metadata": {},
     "output_type": "display_data"
    },
    {
     "name": "stdout",
     "output_type": "stream",
     "text": [
      "=============================== RUNNING THE VECTORIZATION ===============================\n",
      "\n",
      "Applying tf-idf vectorizer...\n",
      "Done!\n",
      "\n",
      "=============================== END OF THE VECTORIZATION ================================\n",
      "\n"
     ]
    }
   ],
   "source": [
    "import sys\n",
    "sys.path.append('../preprocessing/')\n",
    "\n",
    "import pandas as pd\n",
    "import numpy as np\n",
    "from preprocess import *\n",
    "\n",
    "df = pd.read_csv('../datasets/B2W-Reviews01.csv')\n",
    "\n",
    "preprocessing_functions = ['transform_to_lowercase', 'remove_special_characters', 'remove_stopwords',\n",
    "                           'remove_specific_phrases']\n",
    "\n",
    "'''\n",
    "In this list, you can add: \n",
    "\n",
    "'transform_to_lowercase'\n",
    "'remove_special_characters' \n",
    "'remove_stopwords'\n",
    "'remove_specific_phrases'\n",
    "'perform_lemmatization'\n",
    "'perform_stemming'\n",
    "'''\n",
    "\n",
    "processed_df = preprocess_data(data=df, \n",
    "                               preprocessing_funcs=preprocessing_functions, \n",
    "                               language='portuguese', \n",
    "                               column='review_text', verbose=1)\n",
    "\n",
    "display(processed_df[['review_text', 'prep']])\n",
    "\n",
    "vector, processed_df2 = vectorization(data=processed_df, verbose=1, vectorizer='tf-idf')"
   ]
  },
  {
   "cell_type": "markdown",
   "id": "f66587fd",
   "metadata": {},
   "source": [
    "# Using a Pipeline"
   ]
  },
  {
   "cell_type": "code",
   "execution_count": 2,
   "id": "635f5594",
   "metadata": {},
   "outputs": [
    {
     "name": "stderr",
     "output_type": "stream",
     "text": [
      "[nltk_data] Downloading package stopwords to\n",
      "[nltk_data]     /home/fernando/nltk_data...\n",
      "[nltk_data]   Package stopwords is already up-to-date!\n"
     ]
    }
   ],
   "source": [
    "from NLPipeline import *\n",
    "\n",
    "# Define your arguments\n",
    "preprocessing_funcs = ['transform_to_lowercase', 'remove_special_characters', 'remove_stopwords',\n",
    "                       'remove_specific_phrases']\n",
    "vectorizer = 'word2vec'\n",
    "\n",
    "# Create the pipeline\n",
    "pipeline = NLP_helper(preprocessing_funcs=preprocessing_funcs, vectorizer=vectorizer, column='review_text')\n",
    "\n",
    "df = pd.read_csv('../datasets/B2W-Reviews01.csv')\n",
    "\n",
    "pipeline = pipeline.fit(df)"
   ]
  },
  {
   "cell_type": "code",
   "execution_count": 3,
   "id": "d16f96bf",
   "metadata": {},
   "outputs": [
    {
     "data": {
      "text/plain": [
       "Pipeline(steps=[('preprocess',\n",
       "                 PreprocessDataTransformer(column='review_text',\n",
       "                                           preprocessing_funcs=['transform_to_lowercase',\n",
       "                                                                'remove_special_characters',\n",
       "                                                                'remove_stopwords',\n",
       "                                                                'remove_specific_phrases'])),\n",
       "                ('vectorize',\n",
       "                 VectorizationTransformer(vector=<gensim.models.word2vec.Word2Vec object at 0x7f47a2d16320>,\n",
       "                                          vectorizer='word2vec'))])"
      ]
     },
     "execution_count": 3,
     "metadata": {},
     "output_type": "execute_result"
    }
   ],
   "source": [
    "pipeline"
   ]
  },
  {
   "cell_type": "markdown",
   "id": "4d600348",
   "metadata": {},
   "source": [
    "## Testing with a phrase (string):"
   ]
  },
  {
   "cell_type": "code",
   "execution_count": 4,
   "id": "581578f2",
   "metadata": {
    "scrolled": true
   },
   "outputs": [
    {
     "name": "stderr",
     "output_type": "stream",
     "text": [
      "[nltk_data] Downloading package stopwords to\n",
      "[nltk_data]     /home/fernando/nltk_data...\n",
      "[nltk_data]   Package stopwords is already up-to-date!\n"
     ]
    },
    {
     "data": {
      "text/html": [
       "<div>\n",
       "<style scoped>\n",
       "    .dataframe tbody tr th:only-of-type {\n",
       "        vertical-align: middle;\n",
       "    }\n",
       "\n",
       "    .dataframe tbody tr th {\n",
       "        vertical-align: top;\n",
       "    }\n",
       "\n",
       "    .dataframe thead th {\n",
       "        text-align: right;\n",
       "    }\n",
       "</style>\n",
       "<table border=\"1\" class=\"dataframe\">\n",
       "  <thead>\n",
       "    <tr style=\"text-align: right;\">\n",
       "      <th></th>\n",
       "      <th>0</th>\n",
       "      <th>1</th>\n",
       "      <th>2</th>\n",
       "      <th>3</th>\n",
       "      <th>4</th>\n",
       "      <th>5</th>\n",
       "      <th>6</th>\n",
       "      <th>7</th>\n",
       "      <th>8</th>\n",
       "      <th>9</th>\n",
       "      <th>...</th>\n",
       "      <th>90</th>\n",
       "      <th>91</th>\n",
       "      <th>92</th>\n",
       "      <th>93</th>\n",
       "      <th>94</th>\n",
       "      <th>95</th>\n",
       "      <th>96</th>\n",
       "      <th>97</th>\n",
       "      <th>98</th>\n",
       "      <th>99</th>\n",
       "    </tr>\n",
       "  </thead>\n",
       "  <tbody>\n",
       "    <tr>\n",
       "      <th>0</th>\n",
       "      <td>-0.906216</td>\n",
       "      <td>0.403895</td>\n",
       "      <td>-0.702325</td>\n",
       "      <td>-0.147299</td>\n",
       "      <td>0.303203</td>\n",
       "      <td>0.527698</td>\n",
       "      <td>0.421332</td>\n",
       "      <td>1.18418</td>\n",
       "      <td>-1.562565</td>\n",
       "      <td>-0.779761</td>\n",
       "      <td>...</td>\n",
       "      <td>-0.877641</td>\n",
       "      <td>1.716837</td>\n",
       "      <td>0.242468</td>\n",
       "      <td>0.398737</td>\n",
       "      <td>1.406891</td>\n",
       "      <td>0.631482</td>\n",
       "      <td>-1.705007</td>\n",
       "      <td>0.071202</td>\n",
       "      <td>0.964499</td>\n",
       "      <td>0.564619</td>\n",
       "    </tr>\n",
       "  </tbody>\n",
       "</table>\n",
       "<p>1 rows × 100 columns</p>\n",
       "</div>"
      ],
      "text/plain": [
       "         0         1         2         3         4         5         6   \\\n",
       "0 -0.906216  0.403895 -0.702325 -0.147299  0.303203  0.527698  0.421332   \n",
       "\n",
       "        7         8         9   ...        90        91        92        93  \\\n",
       "0  1.18418 -1.562565 -0.779761  ... -0.877641  1.716837  0.242468  0.398737   \n",
       "\n",
       "         94        95        96        97        98        99  \n",
       "0  1.406891  0.631482 -1.705007  0.071202  0.964499  0.564619  \n",
       "\n",
       "[1 rows x 100 columns]"
      ]
     },
     "execution_count": 4,
     "metadata": {},
     "output_type": "execute_result"
    }
   ],
   "source": [
    "pipeline.transform('Produto muito bom, gostei demais')"
   ]
  },
  {
   "cell_type": "markdown",
   "id": "bff93e6a",
   "metadata": {},
   "source": [
    "## Testing with a list:"
   ]
  },
  {
   "cell_type": "code",
   "execution_count": 5,
   "id": "175fda3c",
   "metadata": {},
   "outputs": [
    {
     "name": "stderr",
     "output_type": "stream",
     "text": [
      "[nltk_data] Downloading package stopwords to\n",
      "[nltk_data]     /home/fernando/nltk_data...\n",
      "[nltk_data]   Package stopwords is already up-to-date!\n"
     ]
    },
    {
     "data": {
      "text/html": [
       "<div>\n",
       "<style scoped>\n",
       "    .dataframe tbody tr th:only-of-type {\n",
       "        vertical-align: middle;\n",
       "    }\n",
       "\n",
       "    .dataframe tbody tr th {\n",
       "        vertical-align: top;\n",
       "    }\n",
       "\n",
       "    .dataframe thead th {\n",
       "        text-align: right;\n",
       "    }\n",
       "</style>\n",
       "<table border=\"1\" class=\"dataframe\">\n",
       "  <thead>\n",
       "    <tr style=\"text-align: right;\">\n",
       "      <th></th>\n",
       "      <th>0</th>\n",
       "      <th>1</th>\n",
       "      <th>2</th>\n",
       "      <th>3</th>\n",
       "      <th>4</th>\n",
       "      <th>5</th>\n",
       "      <th>6</th>\n",
       "      <th>7</th>\n",
       "      <th>8</th>\n",
       "      <th>9</th>\n",
       "      <th>...</th>\n",
       "      <th>90</th>\n",
       "      <th>91</th>\n",
       "      <th>92</th>\n",
       "      <th>93</th>\n",
       "      <th>94</th>\n",
       "      <th>95</th>\n",
       "      <th>96</th>\n",
       "      <th>97</th>\n",
       "      <th>98</th>\n",
       "      <th>99</th>\n",
       "    </tr>\n",
       "  </thead>\n",
       "  <tbody>\n",
       "    <tr>\n",
       "      <th>0</th>\n",
       "      <td>-0.906216</td>\n",
       "      <td>0.403895</td>\n",
       "      <td>-0.702325</td>\n",
       "      <td>-0.147299</td>\n",
       "      <td>0.303203</td>\n",
       "      <td>0.527698</td>\n",
       "      <td>0.421332</td>\n",
       "      <td>1.184180</td>\n",
       "      <td>-1.562565</td>\n",
       "      <td>-0.779761</td>\n",
       "      <td>...</td>\n",
       "      <td>-0.877641</td>\n",
       "      <td>1.716837</td>\n",
       "      <td>0.242468</td>\n",
       "      <td>0.398737</td>\n",
       "      <td>1.406891</td>\n",
       "      <td>0.631482</td>\n",
       "      <td>-1.705007</td>\n",
       "      <td>0.071202</td>\n",
       "      <td>0.964499</td>\n",
       "      <td>0.564619</td>\n",
       "    </tr>\n",
       "    <tr>\n",
       "      <th>1</th>\n",
       "      <td>0.245077</td>\n",
       "      <td>0.799019</td>\n",
       "      <td>0.012044</td>\n",
       "      <td>0.160703</td>\n",
       "      <td>0.845049</td>\n",
       "      <td>-0.330357</td>\n",
       "      <td>0.273403</td>\n",
       "      <td>0.887222</td>\n",
       "      <td>0.029977</td>\n",
       "      <td>0.297038</td>\n",
       "      <td>...</td>\n",
       "      <td>0.072823</td>\n",
       "      <td>-0.348972</td>\n",
       "      <td>0.456879</td>\n",
       "      <td>0.896156</td>\n",
       "      <td>0.511712</td>\n",
       "      <td>0.718133</td>\n",
       "      <td>-0.336940</td>\n",
       "      <td>-0.198802</td>\n",
       "      <td>0.355038</td>\n",
       "      <td>0.055089</td>\n",
       "    </tr>\n",
       "  </tbody>\n",
       "</table>\n",
       "<p>2 rows × 100 columns</p>\n",
       "</div>"
      ],
      "text/plain": [
       "         0         1         2         3         4         5         6   \\\n",
       "0 -0.906216  0.403895 -0.702325 -0.147299  0.303203  0.527698  0.421332   \n",
       "1  0.245077  0.799019  0.012044  0.160703  0.845049 -0.330357  0.273403   \n",
       "\n",
       "         7         8         9   ...        90        91        92        93  \\\n",
       "0  1.184180 -1.562565 -0.779761  ... -0.877641  1.716837  0.242468  0.398737   \n",
       "1  0.887222  0.029977  0.297038  ...  0.072823 -0.348972  0.456879  0.896156   \n",
       "\n",
       "         94        95        96        97        98        99  \n",
       "0  1.406891  0.631482 -1.705007  0.071202  0.964499  0.564619  \n",
       "1  0.511712  0.718133 -0.336940 -0.198802  0.355038  0.055089  \n",
       "\n",
       "[2 rows x 100 columns]"
      ]
     },
     "execution_count": 5,
     "metadata": {},
     "output_type": "execute_result"
    }
   ],
   "source": [
    "pipeline.transform(\n",
    "    ['Produto muito bom, gostei demais', \n",
    "     'Odiei péssimo atendimento e oferta']\n",
    ")"
   ]
  },
  {
   "cell_type": "markdown",
   "id": "39bcbab8",
   "metadata": {},
   "source": [
    "## Testing with a DataFrame:"
   ]
  },
  {
   "cell_type": "code",
   "execution_count": 6,
   "id": "b26a929e",
   "metadata": {
    "scrolled": true
   },
   "outputs": [
    {
     "name": "stderr",
     "output_type": "stream",
     "text": [
      "[nltk_data] Downloading package stopwords to\n",
      "[nltk_data]     /home/fernando/nltk_data...\n",
      "[nltk_data]   Package stopwords is already up-to-date!\n"
     ]
    },
    {
     "data": {
      "text/html": [
       "<div>\n",
       "<style scoped>\n",
       "    .dataframe tbody tr th:only-of-type {\n",
       "        vertical-align: middle;\n",
       "    }\n",
       "\n",
       "    .dataframe tbody tr th {\n",
       "        vertical-align: top;\n",
       "    }\n",
       "\n",
       "    .dataframe thead th {\n",
       "        text-align: right;\n",
       "    }\n",
       "</style>\n",
       "<table border=\"1\" class=\"dataframe\">\n",
       "  <thead>\n",
       "    <tr style=\"text-align: right;\">\n",
       "      <th></th>\n",
       "      <th>0</th>\n",
       "      <th>1</th>\n",
       "      <th>2</th>\n",
       "      <th>3</th>\n",
       "      <th>4</th>\n",
       "      <th>5</th>\n",
       "      <th>6</th>\n",
       "      <th>7</th>\n",
       "      <th>8</th>\n",
       "      <th>9</th>\n",
       "      <th>...</th>\n",
       "      <th>90</th>\n",
       "      <th>91</th>\n",
       "      <th>92</th>\n",
       "      <th>93</th>\n",
       "      <th>94</th>\n",
       "      <th>95</th>\n",
       "      <th>96</th>\n",
       "      <th>97</th>\n",
       "      <th>98</th>\n",
       "      <th>99</th>\n",
       "    </tr>\n",
       "  </thead>\n",
       "  <tbody>\n",
       "    <tr>\n",
       "      <th>0</th>\n",
       "      <td>-0.906216</td>\n",
       "      <td>0.403895</td>\n",
       "      <td>-0.702325</td>\n",
       "      <td>-0.147299</td>\n",
       "      <td>0.303203</td>\n",
       "      <td>0.527698</td>\n",
       "      <td>0.421332</td>\n",
       "      <td>1.184180</td>\n",
       "      <td>-1.562565</td>\n",
       "      <td>-0.779761</td>\n",
       "      <td>...</td>\n",
       "      <td>-0.877641</td>\n",
       "      <td>1.716837</td>\n",
       "      <td>0.242468</td>\n",
       "      <td>0.398737</td>\n",
       "      <td>1.406891</td>\n",
       "      <td>0.631482</td>\n",
       "      <td>-1.705007</td>\n",
       "      <td>0.071202</td>\n",
       "      <td>0.964499</td>\n",
       "      <td>0.564619</td>\n",
       "    </tr>\n",
       "    <tr>\n",
       "      <th>1</th>\n",
       "      <td>0.245077</td>\n",
       "      <td>0.799019</td>\n",
       "      <td>0.012044</td>\n",
       "      <td>0.160703</td>\n",
       "      <td>0.845049</td>\n",
       "      <td>-0.330357</td>\n",
       "      <td>0.273403</td>\n",
       "      <td>0.887222</td>\n",
       "      <td>0.029977</td>\n",
       "      <td>0.297038</td>\n",
       "      <td>...</td>\n",
       "      <td>0.072823</td>\n",
       "      <td>-0.348972</td>\n",
       "      <td>0.456879</td>\n",
       "      <td>0.896156</td>\n",
       "      <td>0.511712</td>\n",
       "      <td>0.718133</td>\n",
       "      <td>-0.336940</td>\n",
       "      <td>-0.198802</td>\n",
       "      <td>0.355038</td>\n",
       "      <td>0.055089</td>\n",
       "    </tr>\n",
       "  </tbody>\n",
       "</table>\n",
       "<p>2 rows × 100 columns</p>\n",
       "</div>"
      ],
      "text/plain": [
       "         0         1         2         3         4         5         6   \\\n",
       "0 -0.906216  0.403895 -0.702325 -0.147299  0.303203  0.527698  0.421332   \n",
       "1  0.245077  0.799019  0.012044  0.160703  0.845049 -0.330357  0.273403   \n",
       "\n",
       "         7         8         9   ...        90        91        92        93  \\\n",
       "0  1.184180 -1.562565 -0.779761  ... -0.877641  1.716837  0.242468  0.398737   \n",
       "1  0.887222  0.029977  0.297038  ...  0.072823 -0.348972  0.456879  0.896156   \n",
       "\n",
       "         94        95        96        97        98        99  \n",
       "0  1.406891  0.631482 -1.705007  0.071202  0.964499  0.564619  \n",
       "1  0.511712  0.718133 -0.336940 -0.198802  0.355038  0.055089  \n",
       "\n",
       "[2 rows x 100 columns]"
      ]
     },
     "execution_count": 6,
     "metadata": {},
     "output_type": "execute_result"
    }
   ],
   "source": [
    "df = pd.DataFrame(\n",
    "    {'review_text': ['Produto muito bom, gostei demais', \n",
    "                     'Odiei péssimo atendimento e oferta']\n",
    "    }\n",
    ")\n",
    "\n",
    "pipeline.transform(df)"
   ]
  },
  {
   "cell_type": "markdown",
   "id": "79ba8e63",
   "metadata": {},
   "source": [
    "### Using the Pipeline methods separately:"
   ]
  },
  {
   "cell_type": "code",
   "execution_count": 7,
   "id": "827bf6c3",
   "metadata": {},
   "outputs": [
    {
     "name": "stderr",
     "output_type": "stream",
     "text": [
      "[nltk_data] Downloading package stopwords to\n",
      "[nltk_data]     /home/fernando/nltk_data...\n",
      "[nltk_data]   Package stopwords is already up-to-date!\n"
     ]
    },
    {
     "data": {
      "text/html": [
       "<div>\n",
       "<style scoped>\n",
       "    .dataframe tbody tr th:only-of-type {\n",
       "        vertical-align: middle;\n",
       "    }\n",
       "\n",
       "    .dataframe tbody tr th {\n",
       "        vertical-align: top;\n",
       "    }\n",
       "\n",
       "    .dataframe thead th {\n",
       "        text-align: right;\n",
       "    }\n",
       "</style>\n",
       "<table border=\"1\" class=\"dataframe\">\n",
       "  <thead>\n",
       "    <tr style=\"text-align: right;\">\n",
       "      <th></th>\n",
       "      <th>review_text</th>\n",
       "      <th>prep</th>\n",
       "    </tr>\n",
       "  </thead>\n",
       "  <tbody>\n",
       "    <tr>\n",
       "      <th>0</th>\n",
       "      <td>Produto muito bom, gostei demais</td>\n",
       "      <td>produto muito bom gostei demais</td>\n",
       "    </tr>\n",
       "  </tbody>\n",
       "</table>\n",
       "</div>"
      ],
      "text/plain": [
       "                        review_text                             prep\n",
       "0  Produto muito bom, gostei demais  produto muito bom gostei demais"
      ]
     },
     "metadata": {},
     "output_type": "display_data"
    }
   ],
   "source": [
    "only_preprocess = pipeline.named_steps['preprocess'].transform('Produto muito bom, gostei demais')\n",
    "display(only_preprocess)"
   ]
  },
  {
   "cell_type": "code",
   "execution_count": 8,
   "id": "90674f0d",
   "metadata": {
    "scrolled": false
   },
   "outputs": [
    {
     "data": {
      "text/html": [
       "<div>\n",
       "<style scoped>\n",
       "    .dataframe tbody tr th:only-of-type {\n",
       "        vertical-align: middle;\n",
       "    }\n",
       "\n",
       "    .dataframe tbody tr th {\n",
       "        vertical-align: top;\n",
       "    }\n",
       "\n",
       "    .dataframe thead th {\n",
       "        text-align: right;\n",
       "    }\n",
       "</style>\n",
       "<table border=\"1\" class=\"dataframe\">\n",
       "  <thead>\n",
       "    <tr style=\"text-align: right;\">\n",
       "      <th></th>\n",
       "      <th>0</th>\n",
       "      <th>1</th>\n",
       "      <th>2</th>\n",
       "      <th>3</th>\n",
       "      <th>4</th>\n",
       "      <th>5</th>\n",
       "      <th>6</th>\n",
       "      <th>7</th>\n",
       "      <th>8</th>\n",
       "      <th>9</th>\n",
       "      <th>...</th>\n",
       "      <th>90</th>\n",
       "      <th>91</th>\n",
       "      <th>92</th>\n",
       "      <th>93</th>\n",
       "      <th>94</th>\n",
       "      <th>95</th>\n",
       "      <th>96</th>\n",
       "      <th>97</th>\n",
       "      <th>98</th>\n",
       "      <th>99</th>\n",
       "    </tr>\n",
       "  </thead>\n",
       "  <tbody>\n",
       "    <tr>\n",
       "      <th>0</th>\n",
       "      <td>-0.906216</td>\n",
       "      <td>0.403895</td>\n",
       "      <td>-0.702325</td>\n",
       "      <td>-0.147299</td>\n",
       "      <td>0.303203</td>\n",
       "      <td>0.527698</td>\n",
       "      <td>0.421332</td>\n",
       "      <td>1.18418</td>\n",
       "      <td>-1.562565</td>\n",
       "      <td>-0.779761</td>\n",
       "      <td>...</td>\n",
       "      <td>-0.877641</td>\n",
       "      <td>1.716837</td>\n",
       "      <td>0.242468</td>\n",
       "      <td>0.398737</td>\n",
       "      <td>1.406891</td>\n",
       "      <td>0.631482</td>\n",
       "      <td>-1.705007</td>\n",
       "      <td>0.071202</td>\n",
       "      <td>0.964499</td>\n",
       "      <td>0.564619</td>\n",
       "    </tr>\n",
       "  </tbody>\n",
       "</table>\n",
       "<p>1 rows × 100 columns</p>\n",
       "</div>"
      ],
      "text/plain": [
       "         0         1         2         3         4         5         6   \\\n",
       "0 -0.906216  0.403895 -0.702325 -0.147299  0.303203  0.527698  0.421332   \n",
       "\n",
       "        7         8         9   ...        90        91        92        93  \\\n",
       "0  1.18418 -1.562565 -0.779761  ... -0.877641  1.716837  0.242468  0.398737   \n",
       "\n",
       "         94        95        96        97        98        99  \n",
       "0  1.406891  0.631482 -1.705007  0.071202  0.964499  0.564619  \n",
       "\n",
       "[1 rows x 100 columns]"
      ]
     },
     "execution_count": 8,
     "metadata": {},
     "output_type": "execute_result"
    }
   ],
   "source": [
    "only_vectorize = pipeline.named_steps['vectorize'].transform(only_preprocess)\n",
    "only_vectorize"
   ]
  },
  {
   "cell_type": "markdown",
   "id": "6ffb37cd",
   "metadata": {},
   "source": [
    "### Using vector-specific functions:\n",
    "* Here, we are using a Word2Vec internal function."
   ]
  },
  {
   "cell_type": "code",
   "execution_count": 9,
   "id": "2230fb81",
   "metadata": {},
   "outputs": [
    {
     "name": "stdout",
     "output_type": "stream",
     "text": [
      "[('adquiri', 0.7346892952919006), ('compramos', 0.6598737239837646), ('encomendei', 0.6003533005714417), ('escolhi', 0.5846759080886841), ('compro', 0.5716974139213562), ('pedi', 0.5635183453559875), ('dei', 0.5160222053527832), ('comprado', 0.5080247521400452), ('suqueiras', 0.5001016855239868), ('rezando', 0.4896581470966339)]\n"
     ]
    }
   ],
   "source": [
    "vector_pipeline = pipeline.named_steps['vectorize'].vector\n",
    "similar_words = vector_pipeline.wv.most_similar('comprei')\n",
    "print(similar_words)"
   ]
  }
 ],
 "metadata": {
  "kernelspec": {
   "display_name": "Python 3 (ipykernel)",
   "language": "python",
   "name": "python3"
  },
  "language_info": {
   "codemirror_mode": {
    "name": "ipython",
    "version": 3
   },
   "file_extension": ".py",
   "mimetype": "text/x-python",
   "name": "python",
   "nbconvert_exporter": "python",
   "pygments_lexer": "ipython3",
   "version": "3.10.9"
  }
 },
 "nbformat": 4,
 "nbformat_minor": 5
}
